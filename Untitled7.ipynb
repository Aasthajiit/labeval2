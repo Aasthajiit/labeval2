{
 "cells": [
  {
   "cell_type": "code",
   "execution_count": 4,
   "id": "5a9ac7aa",
   "metadata": {},
   "outputs": [
    {
     "ename": "IndentationError",
     "evalue": "expected an indented block after function definition on line 11 (3931034251.py, line 12)",
     "output_type": "error",
     "traceback": [
      "\u001b[1;36m  Cell \u001b[1;32mIn[4], line 12\u001b[1;36m\u001b[0m\n\u001b[1;33m    col = mongo_connection()\u001b[0m\n\u001b[1;37m    ^\u001b[0m\n\u001b[1;31mIndentationError\u001b[0m\u001b[1;31m:\u001b[0m expected an indented block after function definition on line 11\n"
     ]
    }
   ],
   "source": [
    "import os \n",
    "import pandas as pd \n",
    "import numpy as np \n",
    "import pymongo \n",
    "from pymongo import MongoClient \n",
    "\n",
    "def mongo_connection(): \n",
    "    con = Connection(host) \n",
    "col = con[database][collection] \n",
    "return col \n",
    "def main(): \n",
    "col = mongo_connection() \n",
    "\n",
    "\n",
    "\n",
    "\n",
    "\n",
    "pipeline = [ \n",
    "{\"group\": {\n",
    "\"_id\":\"company\", \n",
    "\"Avg\":{\"avg\":\"sales\"}, \n",
    "\"Count\":{\"sum\":1}, \n",
    "}}, \n",
    "{\"sort\":{\"Count\":-1,\"Avg\":1}} \n",
    "] \n",
    "aggResult = collection.aggregate(pipeline)\n",
    "df1 = pd.DataFrame(list(aggResult)\n",
    "df1.head()\n",
    "\n",
    "\n",
    "\n",
    "plt.label('xlabel','ylabel')\n",
    "plt.title('quantity vs product')\n",
    "plt.ylabel\n",
    "plt.xlabel\n",
    "\n",
    "\n",
    "\n",
    "\n",
    "\n",
    "\n",
    "\n",
    "\n",
    "\n",
    "\n",
    "\n",
    "\n",
    "\n",
    "\n",
    "\n",
    "\n",
    "\n",
    "\n",
    "\n",
    "\n",
    "\n",
    "\n",
    "\n"
   ]
  },
  {
   "cell_type": "code",
   "execution_count": null,
   "id": "3c3fc68b",
   "metadata": {},
   "outputs": [],
   "source": []
  },
  {
   "cell_type": "code",
   "execution_count": null,
   "id": "d778b382",
   "metadata": {},
   "outputs": [],
   "source": []
  },
  {
   "cell_type": "code",
   "execution_count": null,
   "id": "a1e54ff4",
   "metadata": {},
   "outputs": [],
   "source": [
    "asdc\n"
   ]
  }
 ],
 "metadata": {
  "kernelspec": {
   "display_name": "Python 3 (ipykernel)",
   "language": "python",
   "name": "python3"
  },
  "language_info": {
   "codemirror_mode": {
    "name": "ipython",
    "version": 3
   },
   "file_extension": ".py",
   "mimetype": "text/x-python",
   "name": "python",
   "nbconvert_exporter": "python",
   "pygments_lexer": "ipython3",
   "version": "3.11.5"
  }
 },
 "nbformat": 4,
 "nbformat_minor": 5
}
